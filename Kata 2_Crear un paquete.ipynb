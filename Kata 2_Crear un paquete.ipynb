{
 "cells": [
  {
   "cell_type": "markdown",
   "metadata": {},
   "source": [
    "PRUEBA 1\n",
    "\n",
    "Utilicé el comando windows + cmd + enter"
   ]
  },
  {
   "cell_type": "code",
   "execution_count": null,
   "metadata": {},
   "outputs": [],
   "source": [
    "Microsoft Windows [Versión 10.0.22000.493]\n",
    "(c) Microsoft Corporation. Todos los derechos reservados.\n",
    "\n",
    "C:\\Users\\valad>python -m venv env\n",
    "\n",
    "C:\\Users\\valad>env\\Scripts\\activate\n",
    "\n",
    "(env) C:\\Users\\valad>pip freeze\n",
    "\n",
    "(env) C:\\Users\\valad>pip install\n",
    "ERROR: You must give at least one requirement to install (see \"pip help install\")\n",
    "WARNING: You are using pip version 21.2.4; however, version 22.0.3 is available.\n",
    "You should consider upgrading via the 'C:\\Users\\valad\\env\\Scripts\\python.exe -m pip install --upgrade pip' command.\n",
    "\n",
    "(env) C:\\Users\\valad>pip install python-dateutil\n",
    "Collecting python-dateutil\n",
    "  Using cached python_dateutil-2.8.2-py2.py3-none-any.whl (247 kB)\n",
    "Collecting six>=1.5\n",
    "  Using cached six-1.16.0-py2.py3-none-any.whl (11 kB)\n",
    "Installing collected packages: six, python-dateutil\n",
    "Successfully installed python-dateutil-2.8.2 six-1.16.0\n",
    "WARNING: You are using pip version 21.2.4; however, version 22.0.3 is available.\n",
    "You should consider upgrading via the 'C:\\Users\\valad\\env\\Scripts\\python.exe -m pip install --upgrade pip' command.\n",
    "\n",
    "(env) C:\\Users\\valad>pip freeze\n",
    "python-dateutil==2.8.2\n",
    "six==1.16.0\n",
    "\n",
    "(env) C:\\Users\\valad>deactivate\n",
    "C:\\Users\\valad>"
   ]
  },
  {
   "cell_type": "markdown",
   "metadata": {},
   "source": [
    "PRUEBA 2\n",
    "\n",
    "Utilicé la terminal de VS Code"
   ]
  },
  {
   "cell_type": "code",
   "execution_count": null,
   "metadata": {},
   "outputs": [],
   "source": [
    "Microsoft Windows [Versión 10.0.22000.493]\n",
    "(c) Microsoft Corporation. Todos los derechos reservados.\n",
    "\n",
    "sers/valad/Desktop/LAUNCH X _ MEXICO/CURSO_IntroPython/CursoIntroPython-main/env`/Scripts/activate.bat\"\n",
    "                                           (env`) C:\\Users\\valad\\Desktop\\LAUNCH X _ MEXICO\\CURSO_IntroPython\\CursoIntroPython-main>pip freeze\n",
    "\n",
    "(env`) C:\\Users\\valad\\Desktop\\LAUNCH X _ MEXICO\\CURSO_IntroPython\\CursoIntroPython-main>pip install\n",
    "ERROR: You must give at least one requirement to install (see \"pip help install\")     \n",
    "WARNING: You are using pip version 21.2.4; however, version 22.0.3 is available.      \n",
    "You should consider upgrading via the 'C:\\Users\\valad\\Desktop\\LAUNCH X _ MEXICO\\CURSO_IntroPython\\CursoIntroPython-main\\env`\\Scripts\\python.exe -m pip install --upgrade pip' command.\n",
    "\n",
    "(env`) C:\\Users\\valad\\Desktop\\LAUNCH X _ MEXICO\\CURSO_IntroPython\\CursoIntroPython-main>pip install python-dateutil\n",
    "Collecting python-dateutil\n",
    "  Using cached python_dateutil-2.8.2-py2.py3-none-any.whl (247 kB)\n",
    "Collecting six>=1.5\n",
    "  Using cached six-1.16.0-py2.py3-none-any.whl (11 kB)\n",
    "Installing collected packages: six, python-dateutil\n",
    "Successfully installed python-dateutil-2.8.2 six-1.16.0\n",
    "WARNING: You are using pip version 21.2.4; however, version 22.0.3 is available.      \n",
    "You should consider upgrading via the 'C:\\Users\\valad\\Desktop\\LAUNCH X _ MEXICO\\CURSO_IntroPython\\CursoIntroPython-main\\env`\\Scripts\\python.exe -m pip install --upgrade pip' command.\n",
    "\n",
    "(env`) C:\\Users\\valad\\Desktop\\LAUNCH X _ MEXICO\\CURSO_IntroPython\\CursoIntroPython-main>pip freeze\n",
    "python-dateutil==2.8.2\n",
    "six==1.16.0\n",
    "programa o archivo por lotes ejecutable.\n",
    "\n",
    "(env`) C:\\Users\\valad\\Desktop\\LAUNCH X _ MEXICO\\CURSO_IntroPython\\CursoIntroPython-main>deactivate\n",
    "C:\\Users\\valad\\Desktop\\LAUNCH X _ MEXICO\\CURSO_IntroPython\\CursoIntroPython-main>"
   ]
  },
  {
   "cell_type": "markdown",
   "metadata": {},
   "source": [
    "PRUEBA 3\n",
    "\n",
    "Utilicé la explicación de mi compañero LeonardoGutierrezV"
   ]
  },
  {
   "cell_type": "code",
   "execution_count": null,
   "metadata": {},
   "outputs": [],
   "source": [
    "C:\\Users\\valad>python\n",
    "Python 3.10.2 (tags/v3.10.2:a58ebcc, Jan 17 2022, 14:12:15) [MSC v.1929 64 bit (AMD64)] on win32\n",
    "Type \"help\", \"copyright\", \"credits\" or \"license\" for more information.\n",
    ">>> exit()\n",
    "\n",
    "C:\\Users\\valad>cd C:\\Users\\valad\\Desktop\\LAUNCH X _ MEXICO\\CURSO_IntroPython\\Mis ejercicios\\Modulo 2\n",
    "\n",
    "C:\\Users\\valad\\Desktop\\LAUNCH X _ MEXICO\\CURSO_IntroPython\\Mis ejercicios\\Modulo 2>python -m venv env\n",
    "\n",
    "C:\\Users\\valad\\Desktop\\LAUNCH X _ MEXICO\\CURSO_IntroPython\\Mis ejercicios\\Modulo 2>env\\Scripts\\activate\n",
    "\n",
    "(env) C:\\Users\\valad\\Desktop\\LAUNCH X _ MEXICO\\CURSO_IntroPython\\Mis ejercicios\\Modulo 2>pip freeze\n",
    "\n",
    "(env) C:\\Users\\valad\\Desktop\\LAUNCH X _ MEXICO\\CURSO_IntroPython\\Mis ejercicios\\Modulo 2>pip install python-dateutil\n",
    "Collecting python-dateutil\n",
    "  Using cached python_dateutil-2.8.2-py2.py3-none-any.whl (247 kB)\n",
    "Collecting six>=1.5\n",
    "  Using cached six-1.16.0-py2.py3-none-any.whl (11 kB)\n",
    "Installing collected packages: six, python-dateutil\n",
    "Successfully installed python-dateutil-2.8.2 six-1.16.0\n",
    "WARNING: You are using pip version 21.2.4; however, version 22.0.3 is available.\n",
    "You should consider upgrading via the 'C:\\Users\\valad\\Desktop\\LAUNCH X _ MEXICO\\CURSO_IntroPython\\Mis ejercicios\\Modulo 2\\env\\Scripts\\python.exe -m pip install --upgrade pip' command.\n",
    "\n",
    "(env) C:\\Users\\valad\\Desktop\\LAUNCH X _ MEXICO\\CURSO_IntroPython\\Mis ejercicios\\Modulo 2>pip freeze\n",
    "python-dateutil==2.8.2\n",
    "six==1.16.0\n",
    "\n",
    "(env) C:\\Users\\valad\\Desktop\\LAUNCH X _ MEXICO\\CURSO_IntroPython\\Mis ejercicios\\Modulo 2>deactivate\n",
    "C:\\Users\\valad\\Desktop\\LAUNCH X _ MEXICO\\CURSO_IntroPython\\Mis ejercicios\\Modulo 2>"
   ]
  }
 ],
 "metadata": {
  "interpreter": {
   "hash": "0451acbce5f7ea88214be89d2ff572c02555ae6de9921c5f07fe25a26e131950"
  },
  "kernelspec": {
   "display_name": "Python 3.10.2 64-bit",
   "language": "python",
   "name": "python3"
  },
  "language_info": {
   "codemirror_mode": {
    "name": "ipython",
    "version": 3
   },
   "file_extension": ".py",
   "mimetype": "text/x-python",
   "name": "python",
   "nbconvert_exporter": "python",
   "pygments_lexer": "ipython3",
   "version": "3.10.2"
  },
  "orig_nbformat": 4
 },
 "nbformat": 4,
 "nbformat_minor": 2
}
