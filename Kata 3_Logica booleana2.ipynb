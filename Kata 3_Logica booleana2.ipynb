{
 "cells": [
  {
   "cell_type": "markdown",
   "metadata": {},
   "source": [
    "EJERCICIO 1 - (KATA 3)\n",
    "\n",
    "Escribirás una lógica condicional que imprima una advertencia si un asteroide se acerca a la Tierra demasiado rápido. La velocidad del asteroide varía dependiendo de lo cerca que esté del sol, y cualquier velocidad superior a 25 kilómetros por segundo (km/s) merece una advertencia.\n",
    "\n",
    "Un asteroide se acerca, y viaja a una velocidad de 49 km/s."
   ]
  },
  {
   "cell_type": "code",
   "execution_count": 29,
   "metadata": {},
   "outputs": [
    {
     "name": "stdout",
     "output_type": "stream",
     "text": [
      "¡ALERTA! asteroide se acerca a la tierra demasiado rápido.\n"
     ]
    }
   ],
   "source": [
    "velocidad_asteroide = 49 # km/s\n",
    "velocidad_peligrosa = 25 # km/s\n",
    "\n",
    "if velocidad_asteroide > velocidad_peligrosa:\n",
    "    print(\"¡ALERTA! asteroide se acerca a la tierra demasiado rápido.\")\n",
    "\n",
    "else:\n",
    "    print(\"Se acerca un asteoride a baja velocidad\")"
   ]
  },
  {
   "cell_type": "markdown",
   "metadata": {},
   "source": [
    "EJERCICIO 2 - (KATA 3)\n",
    "\n",
    "Si un asteroide entra en la atmósfera de la Tierra a una velocidad mayor o igual a 20 km/s, a veces produce un rayo de luz que se puede ver desde la Tierra. Escribe la lógica condicional que usa declaraciones if, else, y elif para alertar a las personas de todo el mundo que deben buscar un asteroide en el cielo. ¡Hay uno que se dirige a la tierra ahora a una velocidad de 19 km/s!"
   ]
  },
  {
   "cell_type": "code",
   "execution_count": 31,
   "metadata": {},
   "outputs": [
    {
     "name": "stdout",
     "output_type": "stream",
     "text": [
      "Se acerca un asteoride a baja velocidad\n"
     ]
    }
   ],
   "source": [
    "velocidad_asteroide = 19 # km/s\n",
    "velocidad_LuzVisible = 20 # km/s\n",
    "\n",
    "if velocidad_asteroide > velocidad_LuzVisible:\n",
    "    print(\"¡UN ASTEROIDE SERÁ VISIBLE EN EL CIELO!\")\n",
    "\n",
    "elif velocidad_asteroide == velocidad_LuzVisible:\n",
    "    print(\"Se acerca un asteroide, quizas veamos su rayo de luz.\")\n",
    "    \n",
    "else: \n",
    "    print (\"Se acerca un asteoride a baja velocidad\")"
   ]
  },
  {
   "cell_type": "markdown",
   "metadata": {},
   "source": [
    "EJERCICIO 3 - (KATA 3)\n",
    "\n",
    "Uso de operadores 'and' y 'or'\n",
    "\n",
    "*Los asteroides de menos de 25 metros en su dimensión más grande probablemente se quemarán a medida que entren en la atmósfera de la Tierra.\n",
    "* Si una pieza de un asteroide que es más grande que 25 metros pero más pequeña que 1000 metros golpeara la Tierra, causaría mucho daño.\n",
    "\n",
    "También discutimos en el ejercicio anterior que:\n",
    "\n",
    "* La velocidad del asteroide varía en función de lo cerca que esté del sol, y cualquier velocidad superior a 25 kilómetros por segundo (km/s) merece una advertencia.\n",
    "* Si un asteroide entra en la atmósfera de la Tierra a una velocidad mayor o igual a 20 km/s, a veces produce un rayo de luz que se puede ver desde la Tierra.\n",
    "\n",
    "Usando toda esta información, escribe un programa que emita la advertencia o información correcta a la gente de la Tierra, según la velocidad y el tamaño de un asteroide. Utiliza instrucciones `if`, `else`, y `elif`, así como los operadores `and` y `or`."
   ]
  },
  {
   "cell_type": "code",
   "execution_count": 75,
   "metadata": {},
   "outputs": [
    {
     "name": "stdout",
     "output_type": "stream",
     "text": [
      "¡FIUF! estamos a salvo ^u^' \n"
     ]
    }
   ],
   "source": [
    "velocidad_asteroide = 19\n",
    "tamano_asteroide = 1000\n",
    "\n",
    "if velocidad_asteroide > 25 and tamano_asteroide > 25:\n",
    "    print(\"¡PELIGRO! Se acerca un asteroide que pone en riesgo la Tierra :c\")\n",
    "elif velocidad_asteroide >= 20:\n",
    "    print(\"Probablemente veremos una estrella fugaz! =D\")\n",
    "elif tamano_asteroide < 25:\n",
    "    print(\"Diminuto asteroide atravesando la atmósfera.\")\n",
    "else:\n",
    "    print(\"¡FIUF! estamos a salvo ^u^' \")"
   ]
  }
 ],
 "metadata": {
  "interpreter": {
   "hash": "0451acbce5f7ea88214be89d2ff572c02555ae6de9921c5f07fe25a26e131950"
  },
  "kernelspec": {
   "display_name": "Python 3.10.2 64-bit",
   "language": "python",
   "name": "python3"
  },
  "language_info": {
   "codemirror_mode": {
    "name": "ipython",
    "version": 3
   },
   "file_extension": ".py",
   "mimetype": "text/x-python",
   "name": "python",
   "nbconvert_exporter": "python",
   "pygments_lexer": "ipython3",
   "version": "3.10.2"
  },
  "orig_nbformat": 4
 },
 "nbformat": 4,
 "nbformat_minor": 2
}
